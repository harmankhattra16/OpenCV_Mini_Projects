{
  "nbformat": 4,
  "nbformat_minor": 0,
  "metadata": {
    "colab": {
      "provenance": [],
      "authorship_tag": "ABX9TyP4ZN0KPbpRn31R8jz3oMCz",
      "include_colab_link": true
    },
    "kernelspec": {
      "name": "python3",
      "display_name": "Python 3"
    },
    "language_info": {
      "name": "python"
    }
  },
  "cells": [
    {
      "cell_type": "markdown",
      "metadata": {
        "id": "view-in-github",
        "colab_type": "text"
      },
      "source": [
        "<a href=\"https://colab.research.google.com/github/harmankhattra16/OpenCV_Mini_Projects/blob/main/smallervideo.ipynb\" target=\"_parent\"><img src=\"https://colab.research.google.com/assets/colab-badge.svg\" alt=\"Open In Colab\"/></a>"
      ]
    },
    {
      "cell_type": "code",
      "execution_count": 1,
      "metadata": {
        "colab": {
          "base_uri": "https://localhost:8080/"
        },
        "id": "RQFv2AG3dVCz",
        "outputId": "0ac63c0d-bb13-4397-d8f9-f0965204c0a4"
      },
      "outputs": [
        {
          "output_type": "stream",
          "name": "stdout",
          "text": [
            "Resizing video from 720x1280 to 360x640...\n",
            "Video resized to 50% and saved as 'resized_video.mp4'\n"
          ]
        }
      ],
      "source": [
        "import cv2\n",
        "\n",
        "input_video_path = 'input.com-1751515091.044501.mp4'\n",
        "output_video_path = 'resized_video.mp4'\n",
        "\n",
        "cap = cv2.VideoCapture(input_video_path)\n",
        "\n",
        "fps = int(cap.get(cv2.CAP_PROP_FPS))\n",
        "width = int(cap.get(cv2.CAP_PROP_FRAME_WIDTH))\n",
        "height = int(cap.get(cv2.CAP_PROP_FRAME_HEIGHT))\n",
        "\n",
        "new_width = width // 2\n",
        "new_height = height // 2\n",
        "\n",
        "fourcc = cv2.VideoWriter_fourcc(*'mp4v')\n",
        "out = cv2.VideoWriter(output_video_path, fourcc, fps, (new_width, new_height))\n",
        "\n",
        "print(f\"Resizing video from {width}x{height} to {new_width}x{new_height}...\")\n",
        "\n",
        "while cap.isOpened():\n",
        "    ret, frame = cap.read()\n",
        "    if not ret:\n",
        "        break\n",
        "\n",
        "    resized_frame = cv2.resize(frame, (new_width, new_height), interpolation=cv2.INTER_AREA)\n",
        "\n",
        "    out.write(resized_frame)\n",
        "\n",
        "cap.release()\n",
        "out.release()\n",
        "cv2.destroyAllWindows()\n",
        "\n",
        "print(\"Video resized to 50% and saved as 'resized_video.mp4'\")\n"
      ]
    }
  ]
}