{
  "nbformat": 4,
  "nbformat_minor": 0,
  "metadata": {
    "colab": {
      "provenance": [],
      "authorship_tag": "ABX9TyPBmlX4Q3IEhP+lj3S3XbMm",
      "include_colab_link": true
    },
    "kernelspec": {
      "name": "python3",
      "display_name": "Python 3"
    },
    "language_info": {
      "name": "python"
    }
  },
  "cells": [
    {
      "cell_type": "markdown",
      "metadata": {
        "id": "view-in-github",
        "colab_type": "text"
      },
      "source": [
        "<a href=\"https://colab.research.google.com/github/harmankhattra16/OpenCV_Mini_Projects/blob/main/resize_images.ipynb\" target=\"_parent\"><img src=\"https://colab.research.google.com/assets/colab-badge.svg\" alt=\"Open In Colab\"/></a>"
      ]
    },
    {
      "cell_type": "code",
      "source": [
        "!wget -O flower_images.zip https://storage.googleapis.com/download.tensorflow.org/example_images/flower_photos.tgz\n",
        "\n",
        "import tarfile\n",
        "import os\n",
        "import shutil\n",
        "from glob import glob\n",
        "\n",
        "os.makedirs(\"input_images\", exist_ok=True)\n",
        "\n",
        "with tarfile.open(\"flower_images.zip\", \"r:gz\") as tar:\n",
        "    tar.extractall(\"flowers_temp\")\n",
        "\n",
        "image_paths = glob(\"flowers_temp/flower_photos/*/*.jpg\")\n",
        "for i, path in enumerate(image_paths[:100]):\n",
        "    shutil.copy(path, f\"input_images/image_{i+1}.jpg\")\n",
        "\n",
        "print(\"100 images copied to 'input_images/'\")\n"
      ],
      "metadata": {
        "colab": {
          "base_uri": "https://localhost:8080/"
        },
        "id": "OvFjz14LWV9Q",
        "outputId": "f7907c4c-a21c-4f34-e633-1a79695eb05d"
      },
      "execution_count": 2,
      "outputs": [
        {
          "metadata": {
            "tags": null
          },
          "name": "stdout",
          "output_type": "stream",
          "text": [
            "--2025-07-03 03:34:14--  https://storage.googleapis.com/download.tensorflow.org/example_images/flower_photos.tgz\n",
            "Resolving storage.googleapis.com (storage.googleapis.com)... 74.125.134.207, 74.125.139.207, 173.194.210.207, ...\n",
            "Connecting to storage.googleapis.com (storage.googleapis.com)|74.125.134.207|:443... connected.\n",
            "HTTP request sent, awaiting response... 200 OK\n",
            "Length: 228813984 (218M) [application/x-compressed-tar]\n",
            "Saving to: ‘flower_images.zip’\n",
            "\n",
            "flower_images.zip   100%[===================>] 218.21M   170MB/s    in 1.3s    \n",
            "\n",
            "2025-07-03 03:34:15 (170 MB/s) - ‘flower_images.zip’ saved [228813984/228813984]\n",
            "\n",
            "✅ 100 images copied to 'input_images/'\n"
          ]
        }
      ]
    },
    {
      "cell_type": "code",
      "execution_count": 4,
      "metadata": {
        "colab": {
          "base_uri": "https://localhost:8080/"
        },
        "id": "K9uhqR_7VVw7",
        "outputId": "8ae235ab-9c2b-4e4b-ecc8-de0e80b0dd3e"
      },
      "outputs": [
        {
          "output_type": "stream",
          "name": "stdout",
          "text": [
            "All images resized to 50% and saved in 'resized_images' folder.\n"
          ]
        }
      ],
      "source": [
        "import cv2\n",
        "\n",
        "input_folder = \"input_images\"\n",
        "output_folder = \"resized_images\"\n",
        "\n",
        "os.makedirs(output_folder, exist_ok=True)\n",
        "\n",
        "image_paths = glob(os.path.join(input_folder, \"*.jpg\"))\n",
        "\n",
        "for img_path in image_paths:\n",
        "\n",
        "    img = cv2.imread(img_path)\n",
        "\n",
        "    if img is None:\n",
        "        print(f\"Failed to read {img_path}\")\n",
        "        continue\n",
        "\n",
        "    width = int(img.shape[1] * 0.5)\n",
        "    height = int(img.shape[0] * 0.5)\n",
        "    resized_img = cv2.resize(img, (width, height), interpolation=cv2.INTER_AREA)\n",
        "\n",
        "    filename = os.path.basename(img_path)\n",
        "\n",
        "    save_path = os.path.join(output_folder, filename)\n",
        "    cv2.imwrite(save_path, resized_img)\n",
        "\n",
        "print(\"All images resized to 50% and saved in 'resized_images' folder.\")\n"
      ]
    }
  ]
}